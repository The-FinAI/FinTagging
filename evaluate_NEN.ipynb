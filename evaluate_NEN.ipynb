{
 "cells": [
  {
   "cell_type": "code",
   "execution_count": 1,
   "id": "df0f6ed8-7463-473d-b52d-2fd5f829c0ac",
   "metadata": {},
   "outputs": [],
   "source": [
    "import json\n",
    "import pandas as pd\n",
    "import numpy as np\n",
    "from tqdm.std import tqdm\n",
    "import re\n",
    "import ast"
   ]
  },
  {
   "cell_type": "code",
   "execution_count": 2,
   "id": "659a7a46-8318-42d7-961f-b28f4fe5f125",
   "metadata": {},
   "outputs": [],
   "source": [
    "result_path = \"/home/yw937/FinBen/results/xbrl_nen/deepseek-chat/samples_XBRL_NEN_2025-05-09T18-49-38.889449.jsonl\""
   ]
  },
  {
   "cell_type": "code",
   "execution_count": 3,
   "id": "cb36dea0-028b-45f9-a152-346b48cc9fb4",
   "metadata": {},
   "outputs": [],
   "source": [
    "def parse_result(json_line):\n",
    "    content = json_line[\"doc\"].get(\"query\")\n",
    "    \n",
    "    answer = json_line.get(\"target\")\n",
    "    answer = json.loads(answer)\n",
    "    \n",
    "    response = json_line.get(\"filtered_resps\")[0]\n",
    "\n",
    "    return content, answer, response"
   ]
  },
  {
   "cell_type": "code",
   "execution_count": 4,
   "id": "14c197ab-3844-4e46-93fa-6c90f39d0240",
   "metadata": {},
   "outputs": [],
   "source": [
    "def extract_queryAndcandidates(content):\n",
    "    input_query_match = re.search(r\"Input Query:\\s*(.*?)\\s*Candidate Tags:\", content, re.DOTALL)\n",
    "    input_query = input_query_match.group(1).strip()\n",
    "    \n",
    "    candidate_tags_match = re.search(r\"Candidate Tags:\\s*(\\[[\\s\\S]*?\\])\\s*Answer:\", content, re.DOTALL)\n",
    "    candidate_tags = candidate_tags_match.group(1).strip()\n",
    "    candidate_tags = ast.literal_eval(candidate_tags)\n",
    "    \n",
    "    return input_query, candidate_tags"
   ]
  },
  {
   "cell_type": "code",
   "execution_count": 5,
   "id": "59f09eed-aab6-4672-a2e6-3ebb70596009",
   "metadata": {},
   "outputs": [],
   "source": [
    "def normalize_response(text_str):\n",
    "    pattern = r\"\\{\\\"result\\\"\\s*:\\s*(.*?)\\}\"\n",
    "\n",
    "    code_block_match = re.search(r\"```(?:json)?\\s*(\\{.*?\\})\\s*```\", text_str, flags=re.DOTALL)\n",
    "    if code_block_match:\n",
    "        text_str = code_block_match.group(1).strip()\n",
    "    else:\n",
    "        json_match = re.search(pattern, text_str)\n",
    "        if json_match:\n",
    "            text_str = json_match.group(1)\n",
    "            if text_str.startswith('{') and text_str.endswith('}'):\n",
    "                text_str = text_str.replace(\"\\n\", \"\").strip()\n",
    "            else:\n",
    "                # text_str = text_str.strip('\"')\n",
    "                text_str = f\"\"\"{{\"result\": {text_str}}}\"\"\"\n",
    "        else:\n",
    "            text_str = \"\"\"{{\"result\": \"None\"}}\"\"\"\n",
    "\n",
    "    text_str = text_str.replace(\"\\n\", \"\").strip()\n",
    "    return text_str.strip()"
   ]
  },
  {
   "cell_type": "code",
   "execution_count": 6,
   "id": "38b955a4-d617-4823-8a5d-e2ec9f389681",
   "metadata": {},
   "outputs": [],
   "source": [
    "def calculate_acc(ground_truth, predict_answer):\n",
    "    correct = [g == p for g, p in zip(ground_truth, predict_answer)]\n",
    "    accuracy = sum(correct) / len(ground_truth)\n",
    "\n",
    "    return round(accuracy,4)"
   ]
  },
  {
   "cell_type": "code",
   "execution_count": 7,
   "id": "94ecff3c-0b8f-4af8-ac14-47ca7799d11a",
   "metadata": {},
   "outputs": [
    {
     "name": "stderr",
     "output_type": "stream",
     "text": [
      "52572it [00:31, 1689.99it/s]\n"
     ]
    }
   ],
   "source": [
    "ground_truth = []\n",
    "predict_answer = []\n",
    "orginal_answer = []\n",
    "errors = 0\n",
    "with open(result_path, \"r\") as f:\n",
    "    for line in tqdm(f):\n",
    "        json_line = json.loads(line)\n",
    "        \n",
    "        content, answer, response = parse_result(json_line)\n",
    "        query, candidates = extract_queryAndcandidates(content)\n",
    "        orginal_answer.append(response)\n",
    "\n",
    "        response = normalize_response(response)\n",
    "        # print(response)\n",
    "        try:\n",
    "            response = json.loads(response)\n",
    "            # print(response)\n",
    "            response  = response.get(\"result\")\n",
    "            # orginal_answer.append(response)\n",
    "            if response == \"None\":\n",
    "                response = candidates[0]\n",
    "                errors += 1\n",
    "        except:\n",
    "            # orginal_answer.append(response)\n",
    "            response = candidates[0]\n",
    "            errors += 1\n",
    "\n",
    "        answer = answer.get(\"result\")\n",
    "\n",
    "        ground_truth.append(answer)\n",
    "        predict_answer.append(response)\n",
    "\n",
    "        "
   ]
  },
  {
   "cell_type": "code",
   "execution_count": 8,
   "id": "1f651cb8-d440-4fda-8fb0-a92d34bb4ac4",
   "metadata": {},
   "outputs": [
    {
     "data": {
      "text/plain": [
       "0.1715"
      ]
     },
     "execution_count": 8,
     "metadata": {},
     "output_type": "execute_result"
    }
   ],
   "source": [
    "calculate_acc(ground_truth, predict_answer)"
   ]
  },
  {
   "cell_type": "code",
   "execution_count": null,
   "id": "3105a318-ae68-4728-8a38-2d939f4d2c55",
   "metadata": {},
   "outputs": [],
   "source": []
  }
 ],
 "metadata": {
  "kernelspec": {
   "display_name": "my-jupyter-citation",
   "language": "python",
   "name": "my-jupyter-citation"
  },
  "language_info": {
   "codemirror_mode": {
    "name": "ipython",
    "version": 3
   },
   "file_extension": ".py",
   "mimetype": "text/x-python",
   "name": "python",
   "nbconvert_exporter": "python",
   "pygments_lexer": "ipython3",
   "version": "3.11.7"
  }
 },
 "nbformat": 4,
 "nbformat_minor": 5
}
