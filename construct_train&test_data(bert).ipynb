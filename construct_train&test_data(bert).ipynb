{
 "cells": [
  {
   "cell_type": "code",
   "execution_count": 26,
   "id": "f5f5725e-82fc-4918-ad4c-c341a4d5765e",
   "metadata": {},
   "outputs": [],
   "source": [
    "import json\n",
    "from sklearn.model_selection import train_test_split\n",
    "from tqdm.std import tqdm"
   ]
  },
  {
   "cell_type": "code",
   "execution_count": 2,
   "id": "141ef10c-5b3f-4d45-9c04-71a525f38327",
   "metadata": {},
   "outputs": [],
   "source": [
    "with open(\"annotation/final_simple_annotation.json\", \"r\") as f:\n",
    "    data = json.load(f)"
   ]
  },
  {
   "cell_type": "code",
   "execution_count": 3,
   "id": "d4ce34e8-fa34-4162-9041-e42f46e48657",
   "metadata": {},
   "outputs": [],
   "source": [
    "new_data = data.get(\"text_data\") + data.get(\"table_data\")"
   ]
  },
  {
   "cell_type": "code",
   "execution_count": 4,
   "id": "77072d80-c21e-456c-a0b0-f136aba4c912",
   "metadata": {},
   "outputs": [],
   "source": [
    "train,test = train_test_split(new_data,test_size=0.2)"
   ]
  },
  {
   "cell_type": "code",
   "execution_count": 5,
   "id": "89b07e7e-0202-4c48-8872-59d08e25e940",
   "metadata": {},
   "outputs": [
    {
     "data": {
      "text/plain": [
       "5279"
      ]
     },
     "execution_count": 5,
     "metadata": {},
     "output_type": "execute_result"
    }
   ],
   "source": [
    "len(train)"
   ]
  },
  {
   "cell_type": "code",
   "execution_count": 6,
   "id": "a175ca91-e8aa-46d0-b5d3-404d54e1e619",
   "metadata": {},
   "outputs": [
    {
     "data": {
      "text/plain": [
       "1320"
      ]
     },
     "execution_count": 6,
     "metadata": {},
     "output_type": "execute_result"
    }
   ],
   "source": [
    "len(test)"
   ]
  },
  {
   "cell_type": "markdown",
   "id": "8d9073aa-c3f0-4966-a0df-ee9f65ba8975",
   "metadata": {},
   "source": [
    "## statistic concept information"
   ]
  },
  {
   "cell_type": "code",
   "execution_count": 7,
   "id": "eb3af5c9-8ad7-4309-b581-de3206c76f2d",
   "metadata": {},
   "outputs": [],
   "source": [
    "## for training set\n",
    "train_concepts = set()"
   ]
  },
  {
   "cell_type": "code",
   "execution_count": 8,
   "id": "0234e58f-dbcb-4da5-8cf2-9308d886877c",
   "metadata": {},
   "outputs": [
    {
     "name": "stderr",
     "output_type": "stream",
     "text": [
      "100%|██████████| 5279/5279 [00:00<00:00, 381872.49it/s]\n"
     ]
    }
   ],
   "source": [
    "for element in tqdm(train):\n",
    "    entities = element.get(\"numeric_entities\")\n",
    "    if entities:\n",
    "        for entity in entities:\n",
    "            train_concepts.add(entity.get(\"concept\"))"
   ]
  },
  {
   "cell_type": "code",
   "execution_count": 9,
   "id": "b866461a-3986-4c57-8a45-1149d60fa7c1",
   "metadata": {},
   "outputs": [
    {
     "data": {
      "text/plain": [
       "2098"
      ]
     },
     "execution_count": 9,
     "metadata": {},
     "output_type": "execute_result"
    }
   ],
   "source": [
    "len(train_concepts)"
   ]
  },
  {
   "cell_type": "code",
   "execution_count": 10,
   "id": "aab0672e-ecf4-4b77-858e-5d6bf623d1d8",
   "metadata": {},
   "outputs": [],
   "source": [
    "# for testing set\n",
    "test_concepts = set()"
   ]
  },
  {
   "cell_type": "code",
   "execution_count": 11,
   "id": "74172506-de01-410a-9556-77fcd7b05571",
   "metadata": {},
   "outputs": [
    {
     "name": "stderr",
     "output_type": "stream",
     "text": [
      "100%|██████████| 1320/1320 [00:00<00:00, 394195.89it/s]\n"
     ]
    }
   ],
   "source": [
    "for element in tqdm(test):\n",
    "    entities = element.get(\"numeric_entities\")\n",
    "    if entities:\n",
    "        for entity in entities:\n",
    "            test_concepts.add(entity.get(\"concept\"))"
   ]
  },
  {
   "cell_type": "code",
   "execution_count": 12,
   "id": "2ce5cfe8-e007-410c-9348-009ff527fc56",
   "metadata": {},
   "outputs": [
    {
     "data": {
      "text/plain": [
       "1218"
      ]
     },
     "execution_count": 12,
     "metadata": {},
     "output_type": "execute_result"
    }
   ],
   "source": [
    "len(test_concepts)"
   ]
  },
  {
   "cell_type": "code",
   "execution_count": 13,
   "id": "89300a35-b543-4141-8eb4-78f088783859",
   "metadata": {},
   "outputs": [],
   "source": [
    "missed_concepts = test_concepts-train_concepts"
   ]
  },
  {
   "cell_type": "code",
   "execution_count": 14,
   "id": "f90a71ab-e901-4f1d-b7e5-076e2824fdea",
   "metadata": {},
   "outputs": [
    {
     "data": {
      "text/plain": [
       "190"
      ]
     },
     "execution_count": 14,
     "metadata": {},
     "output_type": "execute_result"
    }
   ],
   "source": [
    "len(missed_concepts)"
   ]
  },
  {
   "cell_type": "code",
   "execution_count": 15,
   "id": "46213bd6-275a-44b3-a8a7-13c75804d5f8",
   "metadata": {},
   "outputs": [],
   "source": [
    "new_missed_concepts = missed_concepts.copy()"
   ]
  },
  {
   "cell_type": "markdown",
   "id": "86b399e3-17d7-4525-8877-ffdbb089a439",
   "metadata": {},
   "source": [
    "## Supplementary training set"
   ]
  },
  {
   "cell_type": "code",
   "execution_count": 16,
   "id": "41a4f6c8-41fd-4125-a1e0-95851860dd40",
   "metadata": {},
   "outputs": [],
   "source": [
    "temp_train = []"
   ]
  },
  {
   "cell_type": "code",
   "execution_count": 17,
   "id": "c5b5d82c-13d6-4aef-a4de-5b241956735b",
   "metadata": {},
   "outputs": [],
   "source": [
    "for target_concept in new_missed_concepts:\n",
    "    for line in test:\n",
    "        entities = line.get(\"numeric_entities\")\n",
    "        if entities:\n",
    "            for entity in entities:\n",
    "                if target_concept == entity.get(\"concept\"):\n",
    "                    temp_train.append(line)"
   ]
  },
  {
   "cell_type": "code",
   "execution_count": 18,
   "id": "dbd1c372-34a1-446f-9521-8e968d23c378",
   "metadata": {},
   "outputs": [],
   "source": [
    "new_train = train+temp_train"
   ]
  },
  {
   "cell_type": "code",
   "execution_count": 20,
   "id": "967ceb29-7afd-4dbe-8883-2576b9f7e69d",
   "metadata": {},
   "outputs": [
    {
     "data": {
      "text/plain": [
       "550"
      ]
     },
     "execution_count": 20,
     "metadata": {},
     "output_type": "execute_result"
    }
   ],
   "source": [
    "len(temp_train)"
   ]
  },
  {
   "cell_type": "code",
   "execution_count": 21,
   "id": "df36db4b-21b8-4923-b1d2-aa2dea7e43a1",
   "metadata": {},
   "outputs": [
    {
     "data": {
      "text/plain": [
       "5829"
      ]
     },
     "execution_count": 21,
     "metadata": {},
     "output_type": "execute_result"
    }
   ],
   "source": [
    "len(new_train)"
   ]
  },
  {
   "cell_type": "code",
   "execution_count": 24,
   "id": "7aeaa556-7f6b-4156-938c-7911958a5e89",
   "metadata": {},
   "outputs": [],
   "source": [
    "with open(\"annotation/train_data.json\", \"w\") as f:\n",
    "    json.dump(new_train, f, indent=4)"
   ]
  },
  {
   "cell_type": "code",
   "execution_count": 25,
   "id": "6c8eae8b-9988-4266-a23b-95f66a015e7c",
   "metadata": {},
   "outputs": [],
   "source": [
    "with open(\"annotation/test_data.json\", \"w\") as f:\n",
    "    json.dump(test, f, indent=4)"
   ]
  },
  {
   "cell_type": "markdown",
   "id": "1cf75a9d-aff6-49b9-9323-689bfaf8942a",
   "metadata": {},
   "source": [
    "## total concepts"
   ]
  },
  {
   "cell_type": "code",
   "execution_count": 28,
   "id": "6794e8f1-d36d-46e5-ac76-33685120f36a",
   "metadata": {},
   "outputs": [],
   "source": [
    "total_concepts = set()"
   ]
  },
  {
   "cell_type": "code",
   "execution_count": 29,
   "id": "33577970-e546-475f-a7f6-a3badaefee60",
   "metadata": {},
   "outputs": [
    {
     "name": "stderr",
     "output_type": "stream",
     "text": [
      "100%|██████████| 6599/6599 [00:00<00:00, 464290.47it/s]\n"
     ]
    }
   ],
   "source": [
    "for element in tqdm(new_data):\n",
    "    entities = element.get(\"numeric_entities\")\n",
    "    if entities:\n",
    "        for entity in entities:\n",
    "            total_concepts.add(entity.get(\"concept\"))"
   ]
  },
  {
   "cell_type": "code",
   "execution_count": 30,
   "id": "29ef3039-4bfd-425f-ae9e-4506fff9ed83",
   "metadata": {},
   "outputs": [
    {
     "data": {
      "text/plain": [
       "2288"
      ]
     },
     "execution_count": 30,
     "metadata": {},
     "output_type": "execute_result"
    }
   ],
   "source": [
    "len(total_concepts)"
   ]
  },
  {
   "cell_type": "markdown",
   "id": "6ec4b569-e216-46ac-986b-fe918f1e7d4b",
   "metadata": {},
   "source": [
    "## constrcut label2id data"
   ]
  },
  {
   "cell_type": "code",
   "execution_count": 31,
   "id": "de078637-8311-4f06-97fb-09c225a57db5",
   "metadata": {},
   "outputs": [],
   "source": [
    "labels = list(total_concepts)\n",
    "\n",
    "bio_labels = []\n",
    "for label in labels:\n",
    "    bio_labels.append(f\"B-{label}\")\n",
    "    bio_labels.append(f\"I-{label}\")\n",
    "bio_labels.append(\"O\")  # 最后加 'O'"
   ]
  },
  {
   "cell_type": "code",
   "execution_count": 32,
   "id": "f76acdb9-75b3-43d3-ad67-e75260f47403",
   "metadata": {},
   "outputs": [],
   "source": [
    "label2id = {label: idx for idx, label in enumerate(bio_labels)}\n",
    "id2label = {str(idx): label for label, idx in label2id.items()}"
   ]
  },
  {
   "cell_type": "code",
   "execution_count": 33,
   "id": "04bbcdaf-92b3-4bb9-b45f-b6c1e92ba6ab",
   "metadata": {},
   "outputs": [],
   "source": [
    "with open(\"annotation/BIO_data/label2id.json\", \"w\") as f:\n",
    "    json.dump(label2id, f, indent=2)\n",
    "\n",
    "with open(\"annotation/BIO_data/id2label.json\", \"w\") as f:\n",
    "    json.dump(id2label, f, indent=2)"
   ]
  },
  {
   "cell_type": "code",
   "execution_count": null,
   "id": "beba939c-a71d-403d-b18a-00206438e6bd",
   "metadata": {},
   "outputs": [],
   "source": []
  }
 ],
 "metadata": {
  "kernelspec": {
   "display_name": "my-jupyter-citation",
   "language": "python",
   "name": "my-jupyter-citation"
  },
  "language_info": {
   "codemirror_mode": {
    "name": "ipython",
    "version": 3
   },
   "file_extension": ".py",
   "mimetype": "text/x-python",
   "name": "python",
   "nbconvert_exporter": "python",
   "pygments_lexer": "ipython3",
   "version": "3.11.7"
  }
 },
 "nbformat": 4,
 "nbformat_minor": 5
}
