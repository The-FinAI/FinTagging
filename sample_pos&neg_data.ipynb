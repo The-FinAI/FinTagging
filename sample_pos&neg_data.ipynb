{
 "cells": [
  {
   "cell_type": "code",
   "execution_count": 1,
   "id": "788f222a-de24-4082-aeae-133a72292b0b",
   "metadata": {},
   "outputs": [],
   "source": [
    "import json\n",
    "from tqdm.std import tqdm\n",
    "import re\n",
    "import random"
   ]
  },
  {
   "cell_type": "markdown",
   "id": "b82a2700-62d8-4b36-855d-441e3448b296",
   "metadata": {},
   "source": [
    "## loading simple annotation data"
   ]
  },
  {
   "cell_type": "code",
   "execution_count": 2,
   "id": "b7695cda-7411-4669-86ec-8baba9846626",
   "metadata": {},
   "outputs": [],
   "source": [
    "data_name = \"annotation/simple_data/for_bert_training_annotation.json\""
   ]
  },
  {
   "cell_type": "code",
   "execution_count": 3,
   "id": "e11a7ade-6d1f-4618-b155-5d49193f7a22",
   "metadata": {},
   "outputs": [],
   "source": [
    "with open(data_name, \"r\") as f:\n",
    "    simple_data = json.load(f)"
   ]
  },
  {
   "cell_type": "code",
   "execution_count": 4,
   "id": "7485a871-4fe9-4609-9178-f23d5a986abf",
   "metadata": {},
   "outputs": [],
   "source": [
    "# simple_data"
   ]
  },
  {
   "cell_type": "code",
   "execution_count": 5,
   "id": "c0a4d977-a0ba-433a-93cb-f986f502f86e",
   "metadata": {},
   "outputs": [],
   "source": [
    "def filter_negative_text_sample(text):\n",
    "    \n",
    "    return len(text) > 100 and len(text) < 500"
   ]
  },
  {
   "cell_type": "code",
   "execution_count": 6,
   "id": "c30e7b3f-f20b-4898-b32d-6efa1689dea4",
   "metadata": {},
   "outputs": [],
   "source": [
    "def filter_negative_table_sample(html_str):\n",
    "    # 提取所有数字字符\n",
    "    digits = re.findall(r'\\d', html_str)\n",
    "    return len(digits) >= 50"
   ]
  },
  {
   "cell_type": "code",
   "execution_count": 7,
   "id": "34644b37-f5f7-4a4b-ba3a-fba34b5c1d22",
   "metadata": {},
   "outputs": [],
   "source": [
    "text_data = simple_data[\"text_data\"]\n",
    "table_data = simple_data[\"table_data\"]"
   ]
  },
  {
   "cell_type": "code",
   "execution_count": 8,
   "id": "c1029967-5a3b-403b-ae37-cfb2987d0d0f",
   "metadata": {},
   "outputs": [
    {
     "name": "stderr",
     "output_type": "stream",
     "text": [
      "100%|██████████| 10/10 [00:00<00:00, 87199.67it/s]\n"
     ]
    }
   ],
   "source": [
    "# ## sample positive and negative\n",
    "# new_text_data = []\n",
    "# for elem in tqdm(text_data):\n",
    "#     poss = elem.get(\"pos\")\n",
    "#     negs = elem.get(\"neg\")\n",
    "#     new_negs = []\n",
    "#     for neg in negs:\n",
    "#         text = neg[\"text\"]\n",
    "#         if filter_negative_text_sample(text):\n",
    "#             new_negs.append(neg)\n",
    "#     if len(poss) == 0:\n",
    "#         new_negs = random.sample(new_negs, 50)\n",
    "#     else:\n",
    "#         if len(new_negs) > len(poss):\n",
    "#             new_negs = random.sample(new_negs, len(poss))\n",
    "\n",
    "#     new_text_data.append({\"pos\": poss, \"neg\": new_negs})\n",
    "\n",
    "## sample positive only\n",
    "new_text_data = []\n",
    "for elem in tqdm(text_data):\n",
    "    poss = elem.get(\"pos\")\n",
    "    new_text_data.append({\"pos\": poss})"
   ]
  },
  {
   "cell_type": "code",
   "execution_count": 9,
   "id": "5d74ea7c-156e-4d65-8da8-fbe3deb59325",
   "metadata": {},
   "outputs": [
    {
     "name": "stderr",
     "output_type": "stream",
     "text": [
      "100%|██████████| 10/10 [00:00<00:00, 109226.67it/s]\n"
     ]
    }
   ],
   "source": [
    "# ## sample positive and negative\n",
    "# new_table_data = []\n",
    "# for elem in tqdm(table_data):\n",
    "#     poss = elem.get(\"pos\")\n",
    "#     negs = elem.get(\"neg\")\n",
    "#     if len(negs) <= len(poss):\n",
    "#         new_table_data.append(elem)\n",
    "#     else:\n",
    "#         new_negs = []\n",
    "#         for neg in negs:\n",
    "#             text = neg[\"text\"]\n",
    "#             if filter_negative_table_sample(text):\n",
    "#                 new_negs.append(neg)\n",
    "#         if len(new_negs) > len(poss):\n",
    "#             new_negs = random.sample(new_negs, len(poss))\n",
    "#         new_table_data.append({\"pos\": poss, \"neg\": new_negs})\n",
    "\n",
    "## sample positive only\n",
    "new_table_data = []\n",
    "for elem in tqdm(table_data):\n",
    "    poss = elem.get(\"pos\")\n",
    "    new_table_data.append({\"pos\": poss})"
   ]
  },
  {
   "cell_type": "markdown",
   "id": "30c43e7b-97c5-4c46-ac52-a0bb57994422",
   "metadata": {},
   "source": [
    "## statistic"
   ]
  },
  {
   "cell_type": "code",
   "execution_count": 10,
   "id": "5feb5345-dc86-409d-9b71-3abf6a2a614e",
   "metadata": {},
   "outputs": [],
   "source": [
    "text_positive_counts = 0\n",
    "for item in new_text_data:\n",
    "    text_positive_counts += len(item[\"pos\"])"
   ]
  },
  {
   "cell_type": "code",
   "execution_count": 11,
   "id": "a6d8da6f-90da-4e1d-ad23-f0c16e2c8422",
   "metadata": {},
   "outputs": [
    {
     "data": {
      "text/plain": [
       "558"
      ]
     },
     "execution_count": 11,
     "metadata": {},
     "output_type": "execute_result"
    }
   ],
   "source": [
    "text_positive_counts"
   ]
  },
  {
   "cell_type": "code",
   "execution_count": 12,
   "id": "2dc5171d-75f9-4713-a32e-2291011772f8",
   "metadata": {},
   "outputs": [
    {
     "ename": "KeyError",
     "evalue": "'neg'",
     "output_type": "error",
     "traceback": [
      "\u001b[0;31m---------------------------------------------------------------------------\u001b[0m",
      "\u001b[0;31mKeyError\u001b[0m                                  Traceback (most recent call last)",
      "Cell \u001b[0;32mIn[12], line 3\u001b[0m\n\u001b[1;32m      1\u001b[0m text_negative_counts \u001b[38;5;241m=\u001b[39m \u001b[38;5;241m0\u001b[39m\n\u001b[1;32m      2\u001b[0m \u001b[38;5;28;01mfor\u001b[39;00m item \u001b[38;5;129;01min\u001b[39;00m new_text_data:\n\u001b[0;32m----> 3\u001b[0m     text_negative_counts \u001b[38;5;241m+\u001b[39m\u001b[38;5;241m=\u001b[39m \u001b[38;5;28mlen\u001b[39m(\u001b[43mitem\u001b[49m\u001b[43m[\u001b[49m\u001b[38;5;124;43m\"\u001b[39;49m\u001b[38;5;124;43mneg\u001b[39;49m\u001b[38;5;124;43m\"\u001b[39;49m\u001b[43m]\u001b[49m)\n",
      "\u001b[0;31mKeyError\u001b[0m: 'neg'"
     ]
    }
   ],
   "source": [
    "text_negative_counts = 0\n",
    "for item in new_text_data:\n",
    "    text_negative_counts += len(item[\"neg\"])"
   ]
  },
  {
   "cell_type": "code",
   "execution_count": null,
   "id": "cec4a51e-3ebf-4fb4-9802-243db5609626",
   "metadata": {},
   "outputs": [],
   "source": [
    "text_negative_counts"
   ]
  },
  {
   "cell_type": "code",
   "execution_count": 13,
   "id": "3f0243b4-a4f1-49bd-90fe-9e3ed8cc4a5a",
   "metadata": {},
   "outputs": [],
   "source": [
    "table_positive_counts = 0\n",
    "for item in new_table_data:\n",
    "    table_positive_counts += len(item[\"pos\"])"
   ]
  },
  {
   "cell_type": "code",
   "execution_count": 14,
   "id": "4a88452c-b70d-4111-a932-24440aaa12ce",
   "metadata": {},
   "outputs": [
    {
     "data": {
      "text/plain": [
       "594"
      ]
     },
     "execution_count": 14,
     "metadata": {},
     "output_type": "execute_result"
    }
   ],
   "source": [
    "table_positive_counts"
   ]
  },
  {
   "cell_type": "code",
   "execution_count": 15,
   "id": "06e60393-64d7-4e96-90d9-7a5980d631f8",
   "metadata": {},
   "outputs": [
    {
     "ename": "KeyError",
     "evalue": "'neg'",
     "output_type": "error",
     "traceback": [
      "\u001b[0;31m---------------------------------------------------------------------------\u001b[0m",
      "\u001b[0;31mKeyError\u001b[0m                                  Traceback (most recent call last)",
      "Cell \u001b[0;32mIn[15], line 3\u001b[0m\n\u001b[1;32m      1\u001b[0m table_negative_counts \u001b[38;5;241m=\u001b[39m \u001b[38;5;241m0\u001b[39m\n\u001b[1;32m      2\u001b[0m \u001b[38;5;28;01mfor\u001b[39;00m item \u001b[38;5;129;01min\u001b[39;00m new_table_data:\n\u001b[0;32m----> 3\u001b[0m     table_negative_counts \u001b[38;5;241m+\u001b[39m\u001b[38;5;241m=\u001b[39m \u001b[38;5;28mlen\u001b[39m(\u001b[43mitem\u001b[49m\u001b[43m[\u001b[49m\u001b[38;5;124;43m\"\u001b[39;49m\u001b[38;5;124;43mneg\u001b[39;49m\u001b[38;5;124;43m\"\u001b[39;49m\u001b[43m]\u001b[49m)\n",
      "\u001b[0;31mKeyError\u001b[0m: 'neg'"
     ]
    }
   ],
   "source": [
    "table_negative_counts = 0\n",
    "for item in new_table_data:\n",
    "    table_negative_counts += len(item[\"neg\"])"
   ]
  },
  {
   "cell_type": "code",
   "execution_count": 16,
   "id": "f4a6b037-666a-4860-ace0-8d8f7b156cb3",
   "metadata": {},
   "outputs": [
    {
     "data": {
      "text/plain": [
       "0"
      ]
     },
     "execution_count": 16,
     "metadata": {},
     "output_type": "execute_result"
    }
   ],
   "source": [
    "table_negative_counts"
   ]
  },
  {
   "cell_type": "markdown",
   "id": "83f0a213-c773-4fa6-9596-e9db5012d5f5",
   "metadata": {},
   "source": [
    "## construct final data"
   ]
  },
  {
   "cell_type": "code",
   "execution_count": 18,
   "id": "f414c842-5db8-4426-aee3-8bbc68b5be5a",
   "metadata": {},
   "outputs": [],
   "source": [
    "final_text_data = []\n",
    "for item in new_text_data:\n",
    "    pos_data = item.get(\"pos\")\n",
    "    # neg_data = item.get(\"neg\")\n",
    "    # final_text_data.extend(pos_data+neg_data)\n",
    "    final_text_data.extend(pos_data)\n"
   ]
  },
  {
   "cell_type": "code",
   "execution_count": 19,
   "id": "ca022eea-0d4f-47c1-85ce-afecb7c85fef",
   "metadata": {},
   "outputs": [
    {
     "data": {
      "text/plain": [
       "558"
      ]
     },
     "execution_count": 19,
     "metadata": {},
     "output_type": "execute_result"
    }
   ],
   "source": [
    "len(final_text_data)"
   ]
  },
  {
   "cell_type": "code",
   "execution_count": 20,
   "id": "271cfd78-119d-4cb8-af02-dd3a32a92978",
   "metadata": {},
   "outputs": [],
   "source": [
    "final_table_data = []\n",
    "for item in new_table_data:\n",
    "    pos_data = item.get(\"pos\")\n",
    "    # neg_data = item.get(\"neg\")\n",
    "    # final_table_data.extend(pos_data+neg_data)\n",
    "    final_table_data.extend(pos_data)"
   ]
  },
  {
   "cell_type": "code",
   "execution_count": 21,
   "id": "9169c3dd-3d45-4239-aa19-3aede21bf266",
   "metadata": {},
   "outputs": [
    {
     "data": {
      "text/plain": [
       "594"
      ]
     },
     "execution_count": 21,
     "metadata": {},
     "output_type": "execute_result"
    }
   ],
   "source": [
    "len(final_table_data)"
   ]
  },
  {
   "cell_type": "code",
   "execution_count": 22,
   "id": "017880e6-43a3-4874-91d9-9611ca54a7b9",
   "metadata": {},
   "outputs": [],
   "source": [
    "final_annotation_data = {\"text_data\":final_text_data, \"table_data\":final_table_data}"
   ]
  },
  {
   "cell_type": "code",
   "execution_count": 23,
   "id": "9d0fd66d-1c4c-4505-8203-d45faa684041",
   "metadata": {},
   "outputs": [],
   "source": [
    "with open(\"annotation/bert_training_simple_annotation-positive.json\", \"w\") as f:\n",
    "    json.dump(final_annotation_data,f,indent=4)"
   ]
  },
  {
   "cell_type": "code",
   "execution_count": null,
   "id": "362fab18-98a4-4081-95f3-807b05f724ae",
   "metadata": {},
   "outputs": [],
   "source": []
  }
 ],
 "metadata": {
  "kernelspec": {
   "display_name": "my-jupyter-citation",
   "language": "python",
   "name": "my-jupyter-citation"
  },
  "language_info": {
   "codemirror_mode": {
    "name": "ipython",
    "version": 3
   },
   "file_extension": ".py",
   "mimetype": "text/x-python",
   "name": "python",
   "nbconvert_exporter": "python",
   "pygments_lexer": "ipython3",
   "version": "3.11.7"
  }
 },
 "nbformat": 4,
 "nbformat_minor": 5
}
